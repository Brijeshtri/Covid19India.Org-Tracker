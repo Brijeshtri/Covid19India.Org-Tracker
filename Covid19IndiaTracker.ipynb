{
  "nbformat": 4,
  "nbformat_minor": 0,
  "metadata": {
    "kernelspec": {
      "display_name": "Python 3",
      "language": "python",
      "name": "python3"
    },
    "language_info": {
      "codemirror_mode": {
        "name": "ipython",
        "version": 3
      },
      "file_extension": ".py",
      "mimetype": "text/x-python",
      "name": "python",
      "nbconvert_exporter": "python",
      "pygments_lexer": "ipython3",
      "version": "3.7.4"
    },
    "colab": {
      "name": "Covid19IndiaTracker.ipynb",
      "provenance": [],
      "collapsed_sections": [],
      "include_colab_link": true
    }
  },
  "cells": [
    {
      "cell_type": "markdown",
      "metadata": {
        "id": "view-in-github",
        "colab_type": "text"
      },
      "source": [
        "<a href=\"https://colab.research.google.com/github/punit0087/Covid19India.Org-Tracker/blob/master/Covid19IndiaTracker.ipynb\" target=\"_parent\"><img src=\"https://colab.research.google.com/assets/colab-badge.svg\" alt=\"Open In Colab\"/></a>"
      ]
    },
    {
      "cell_type": "code",
      "metadata": {
        "id": "2-Fzu2y2sPxm",
        "colab_type": "code",
        "colab": {}
      },
      "source": [
        "import numpy as np\n",
        "import pandas as pd\n",
        "import requests\n",
        "from math import sin, cos, sqrt, atan2, radians\n"
      ],
      "execution_count": 0,
      "outputs": []
    },
    {
      "cell_type": "code",
      "metadata": {
        "id": "dUv5YbIR1ja2",
        "colab_type": "code",
        "colab": {}
      },
      "source": [
        "#https://drive.google.com/file/d/1FBbr9zubK4VsB6gmNzj4fvE204ngvCeZ/view?usp=sharing\n",
        "def download_file_from_google_drive(id, destination):\n",
        "    URL = \"https://docs.google.com/uc?export=download\"\n",
        "\n",
        "    session = requests.Session()\n",
        "\n",
        "    response = session.get(URL, params = { 'id' : id }, stream = True)\n",
        "    token = get_confirm_token(response)\n",
        "\n",
        "    if token:\n",
        "        params = { 'id' : id, 'confirm' : token }\n",
        "        response = session.get(URL, params = params, stream = True)\n",
        "\n",
        "    save_response_content(response, destination)    \n",
        "\n",
        "def get_confirm_token(response):\n",
        "    for key, value in response.cookies.items():\n",
        "        if key.startswith('download_warning'):\n",
        "            return value\n",
        "\n",
        "    return None\n",
        "\n",
        "def save_response_content(response, destination):\n",
        "    CHUNK_SIZE = 32768\n",
        "\n",
        "    with open(destination, \"wb\") as f:\n",
        "        for chunk in response.iter_content(CHUNK_SIZE):\n",
        "            if chunk: # filter out keep-alive new chunks\n",
        "                f.write(chunk)\n",
        "\n",
        "if __name__ == \"__main__\":\n",
        "    file_id = '1FBbr9zubK4VsB6gmNzj4fvE204ngvCeZ'\n",
        "    destination = 'IndiaPostalCodes.csv'\n",
        "    download_file_from_google_drive(file_id, destination)"
      ],
      "execution_count": 0,
      "outputs": []
    },
    {
      "cell_type": "code",
      "metadata": {
        "id": "Y_VQz71csPxq",
        "colab_type": "code",
        "colab": {}
      },
      "source": [
        "\n",
        "def get_distance_between_lats_lons(lat1,lon1,lat2,lon2):\n",
        "# approximate radius of earth in km\n",
        "        R = 6373\n",
        "\n",
        "        lat1 = radians(lat1)\n",
        "        lon1 = radians(lon1)\n",
        "        lat2 = radians(lat2)\n",
        "        lon2 = radians(lon2)\n",
        "\n",
        "        dlon = lon2 - lon1\n",
        "        dlat = lat2 - lat1\n",
        "\n",
        "        a = sin(dlat / 2)**2 + cos(lat1) * cos(lat2) * sin(dlon / 2)**2\n",
        "        c = 2 * atan2(sqrt(a), sqrt(1 - a))\n",
        "\n",
        "        distance = R * c\n",
        "        return(distance)"
      ],
      "execution_count": 0,
      "outputs": []
    },
    {
      "cell_type": "code",
      "metadata": {
        "id": "itgX8WHAsPxt",
        "colab_type": "code",
        "colab": {}
      },
      "source": [
        "file= 'IndiaPostalCodes.csv'\n",
        "city_wise_coordinates= pd.read_csv(file)\n",
        "city_wise_coordinates['City'] = city_wise_coordinates['City'].str.upper()\n",
        "city_wise_coordinates['District'] = city_wise_coordinates['District'].str.upper()\n",
        "city_wise_coordinates['State'] = city_wise_coordinates['State'].str.upper()\n",
        "#city_wise_coordinates"
      ],
      "execution_count": 0,
      "outputs": []
    },
    {
      "cell_type": "code",
      "metadata": {
        "id": "O5wMBb6xsPxw",
        "colab_type": "code",
        "colab": {}
      },
      "source": [
        "district_wise_pin_states= city_wise_coordinates.groupby('District')['PIN','State'].agg(pd.Series.mode)\n",
        "district_wise_lat_lng= city_wise_coordinates.groupby('District')['Lat','Lng'].agg(pd.Series.mean)\n",
        "\n",
        "district_wise_data_geonames= district_wise_pin_states.merge(district_wise_lat_lng,left_on='District', right_on='District', how= 'inner').reset_index()\n",
        "#district_wise_data_geonames"
      ],
      "execution_count": 0,
      "outputs": []
    },
    {
      "cell_type": "code",
      "metadata": {
        "id": "3kb7QTNRsPx8",
        "colab_type": "code",
        "colab": {}
      },
      "source": [
        "df= pd.read_json(\"https://api.covid19india.org/raw_data.json\")## data from covid19india.org\n",
        "df3= []\n",
        "for row in range(0,df.shape[0]):\n",
        "    df1= df['raw_data'][row]\n",
        "    df2=pd.DataFrame(df1.items()).set_index(0)\n",
        "    df3.append(df2.T)\n",
        "                \n",
        "appended_data = pd.concat(df3, sort=False)\n",
        "appended_data.replace(r'^\\s*$', np.nan, regex=True, inplace = True) \n",
        "appended_data.rename(columns={'detectedcity':'City'}, inplace=True)\n",
        "appended_data.rename(columns={'detecteddistrict':'District'}, inplace=True)\n",
        "appended_data.rename(columns={'detectedstate':'State'}, inplace=True)\n",
        "\n",
        "appended_data['City'] = appended_data['City'].str.lower()\n",
        "appended_data['District'] = appended_data['District'].str.lower()\n",
        "appended_data['State'] = appended_data['State'].str.lower()\n",
        "appended_data= appended_data.dropna(thresh=3)\n",
        "#appended_data\n"
      ],
      "execution_count": 0,
      "outputs": []
    },
    {
      "cell_type": "code",
      "metadata": {
        "id": "8gaic_z5sPx_",
        "colab_type": "code",
        "colab": {}
      },
      "source": [
        "district_wise_counts= appended_data.groupby('District').agg({'patientnumber': 'count'})\n",
        "district_wise_counts.rename(columns={'patientnumber':'d_patient_counts'}, inplace=True)\n",
        "district_wise_counts =district_wise_counts.reset_index()\n",
        "district_wise_counts['District'] = district_wise_counts['District'].str.upper()\n",
        "#district_wise_counts"
      ],
      "execution_count": 0,
      "outputs": []
    },
    {
      "cell_type": "code",
      "metadata": {
        "id": "ySSlILfdsPyI",
        "colab_type": "code",
        "colab": {}
      },
      "source": [
        "corona_db_with_latlng= district_wise_counts.merge(district_wise_data_geonames, left_on='District', right_on='District', how= 'inner')\n",
        "corona_db_with_latlng.rename(columns={'d_patient_counts':'Num_Positive_cases'}, inplace=True)\n",
        "#corona_db_with_latlng"
      ],
      "execution_count": 0,
      "outputs": []
    },
    {
      "cell_type": "code",
      "metadata": {
        "id": "mpUWl0IvsPyK",
        "colab_type": "code",
        "colab": {}
      },
      "source": [
        "import warnings\n",
        "warnings.filterwarnings(\"ignore\")"
      ],
      "execution_count": 0,
      "outputs": []
    },
    {
      "cell_type": "code",
      "metadata": {
        "id": "v9uEs-cSsPyM",
        "colab_type": "code",
        "colab": {}
      },
      "source": [
        "def get_idx_distance_from_query_locations(q_lat, q_lng, corona_db_with_latlng):\n",
        "    dist_array=[]\n",
        "    for index, row in corona_db_with_latlng.iterrows():\n",
        "        dist= int(get_distance_between_lats_lons(q_lat,q_lng,row['Lat'],row['Lng']))\n",
        "        dist_array.append(dist)\n",
        "    \n",
        "    minpos = dist_array.index(min(dist_array)) \n",
        "    mindist= dist_array[minpos]\n",
        "    cases= corona_db_with_latlng.loc[minpos,'Num_Positive_cases']\n",
        "    location= corona_db_with_latlng.loc[minpos,'District']\n",
        "    state= corona_db_with_latlng.loc[minpos,'State']\n",
        "    Lats= corona_db_with_latlng.loc[minpos,'Lat']\n",
        "    Lngs= corona_db_with_latlng.loc[minpos,'Lng']\n",
        "\n",
        "    return(mindist, cases, location, state)"
      ],
      "execution_count": 0,
      "outputs": []
    },
    {
      "cell_type": "code",
      "metadata": {
        "id": "Jsu_Xeb1sPyO",
        "colab_type": "code",
        "colab": {}
      },
      "source": [
        "def get_nearest_covid19_stats(query_info,corona_db_with_latlng):\n",
        "    if query_info.PIN.iloc[1] in corona_db_with_latlng['PIN'].values:\n",
        "        mindist= 2\n",
        "        Lat= corona_db_with_latlng.loc[corona_db_with_latlng.PIN==query_info.PIN.iloc[1], 'Lat'];\n",
        "        Lng= corona_db_with_latlng.loc[corona_db_with_latlng.PIN==query_info.PIN.iloc[1], 'Lng'];\n",
        "        mindist= int(get_distance_between_lats_lons(query_info.Lat.iloc[1] ,query_info.Lng.iloc[1], Lat,Lng))\n",
        "        cases= corona_db_with_latlng.loc[corona_db_with_latlng.PIN==query_info.PIN.iloc[1], 'Num_Positive_cases']\n",
        "        district= corona_db_with_latlng.loc[corona_db_with_latlng.PIN==query_info.PIN.iloc[1], 'District']\n",
        "        state= corona_db_with_latlng.loc[corona_db_with_latlng.PIN==query_info.PIN.iloc[1], 'State']\n",
        "        print(\"The nearest location with COVID-19 from your PIN is in your own Postal Location with {} number of positive cases\".format(cases.values[0]))\n",
        "        print(\"Location: {} , {}\".format(district.values[0].upper(), state.values[0].upper()))\n",
        "    else:\n",
        "        (mindist, cases, district, state) = get_idx_distance_from_query_locations(query_info.Lat.iloc[1] ,query_info.Lng.iloc[1], corona_db_with_latlng)  \n",
        "        print(\"The nearest location with COVID-19 from your PIN is within {} km with {} number of positive cases\".format(mindist, cases))\n",
        "        print(\"Location: {} , {}\".format(district.upper(), state.upper()))"
      ],
      "execution_count": 0,
      "outputs": []
    },
    {
      "cell_type": "code",
      "metadata": {
        "id": "9h-qLRDbsPyS",
        "colab_type": "code",
        "colab": {
          "base_uri": "https://localhost:8080/",
          "height": 69
        },
        "outputId": "161bca14-5e5c-40fa-b383-25fb480a7383"
      },
      "source": [
        "query_pincode = input(\"Enter your location as an Indian PIN  : \") \n",
        "g = int(query_pincode)\n",
        "\n",
        "if g in city_wise_coordinates.PIN.values:\n",
        "    query_info= city_wise_coordinates[city_wise_coordinates.PIN == int(g)]\n",
        "    get_nearest_covid19_stats(query_info,corona_db_with_latlng)\n",
        "else:\n",
        "    print('You entered an Invalid PIN')"
      ],
      "execution_count": 24,
      "outputs": [
        {
          "output_type": "stream",
          "text": [
            "Enter your location as an Indian PIN  : 465001\n",
            "The nearest location with COVID-19 from your PIN is within 42 km with 4 number of positive cases\n",
            "Location: UJJAIN , MADHYA PRADESH\n"
          ],
          "name": "stdout"
        }
      ]
    }
  ]
}