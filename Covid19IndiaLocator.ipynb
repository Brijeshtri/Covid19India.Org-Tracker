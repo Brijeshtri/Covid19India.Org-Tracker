{
  "nbformat": 4,
  "nbformat_minor": 0,
  "metadata": {
    "colab": {
      "name": "Covid19IndiaLocator.ipynb",
      "provenance": [],
      "collapsed_sections": [],
      "authorship_tag": "ABX9TyPrz7IIPPGuRR3pHf1BPqDX",
      "include_colab_link": true
    },
    "kernelspec": {
      "name": "python3",
      "display_name": "Python 3"
    }
  },
  "cells": [
    {
      "cell_type": "markdown",
      "metadata": {
        "id": "view-in-github",
        "colab_type": "text"
      },
      "source": [
        "<a href=\"https://colab.research.google.com/github/punit0087/Covid19India.Org-Tracker/blob/master/Covid19IndiaLocator.ipynb\" target=\"_parent\"><img src=\"https://colab.research.google.com/assets/colab-badge.svg\" alt=\"Open In Colab\"/></a>"
      ]
    },
    {
      "cell_type": "code",
      "metadata": {
        "id": "LcB9crIZ48nk",
        "colab_type": "code",
        "colab": {}
      },
      "source": [
        "##Code written by Punit Rathore (prathore@mit.edu)\n",
        "import numpy as np\n",
        "import pandas as pd\n",
        "import requests\n",
        "from math import sin, cos, sqrt, atan2, radians\n",
        "\n",
        "import warnings\n",
        "warnings.filterwarnings(\"ignore\")"
      ],
      "execution_count": 0,
      "outputs": []
    },
    {
      "cell_type": "code",
      "metadata": {
        "id": "JCf_oqsN5DV6",
        "colab_type": "code",
        "colab": {}
      },
      "source": [
        "#https://drive.google.com/drive/folders/1ynC5CBEpb9ipZuFvEiJnbqvf-f8-iKHI?usp=sharing\n",
        "def download_file_from_google_drive(id, destination):\n",
        "    URL = \"https://docs.google.com/uc?export=download\"\n",
        "\n",
        "    session = requests.Session()\n",
        "\n",
        "    response = session.get(URL, params = { 'id' : id }, stream = True)\n",
        "    token = get_confirm_token(response)\n",
        "\n",
        "    if token:\n",
        "        params = { 'id' : id, 'confirm' : token }\n",
        "        response = session.get(URL, params = params, stream = True)\n",
        "\n",
        "    save_response_content(response, destination)    \n",
        "\n",
        "def get_confirm_token(response):\n",
        "    for key, value in response.cookies.items():\n",
        "        if key.startswith('download_warning'):\n",
        "            return value\n",
        "\n",
        "    return None\n",
        "\n",
        "def save_response_content(response, destination):\n",
        "    CHUNK_SIZE = 32768\n",
        "\n",
        "    with open(destination, \"wb\") as f:\n",
        "        for chunk in response.iter_content(CHUNK_SIZE):\n",
        "            if chunk: # filter out keep-alive new chunks\n",
        "                f.write(chunk)\n",
        "\n",
        "if __name__ == \"__main__\":\n",
        "    file_id1 = '1FBbr9zubK4VsB6gmNzj4fvE204ngvCeZ'\n",
        "    file_id2 = '1V27w301j_jelpo0VKI4953zBoOt6twdB'\n",
        "    destination1 = 'IndiaPostalCodes.csv'\n",
        "    destination2 = 'covid19main.py'\n",
        "    download_file_from_google_drive(file_id1, destination1)\n",
        "    download_file_from_google_drive(file_id2, destination2)\n",
        "\n",
        "import covid19main\n",
        "from covid19main import *"
      ],
      "execution_count": 0,
      "outputs": []
    },
    {
      "cell_type": "code",
      "metadata": {
        "id": "nVPdhY896hB6",
        "colab_type": "code",
        "colab": {
          "base_uri": "https://localhost:8080/",
          "height": 69
        },
        "outputId": "7fe624ba-02a3-494c-df30-1b5d4ac9b2da"
      },
      "source": [
        "query_pincode = input(\"Enter your location as an Indian PIN  : \") \n",
        "g = int(query_pincode)\n",
        "\n",
        "if g in city_wise_coordinates.PIN.values:\n",
        "    query_info= city_wise_coordinates[city_wise_coordinates.PIN == int(g)]\n",
        "    get_nearest_covid19_stats(query_info,corona_db_with_latlng)\n",
        "else:\n",
        "    print('You entered an Invalid PIN')"
      ],
      "execution_count": 12,
      "outputs": [
        {
          "output_type": "stream",
          "text": [
            "Enter your location as an Indian PIN  : 826001\n",
            "The nearest location with COVID-19 from your PIN is within 129 km with 3 number of positive cases\n",
            "Location: MUNGER , BIHAR\n"
          ],
          "name": "stdout"
        }
      ]
    }
  ]
}